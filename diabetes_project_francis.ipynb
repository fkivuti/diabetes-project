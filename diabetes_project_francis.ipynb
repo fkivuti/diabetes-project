{
  "nbformat": 4,
  "nbformat_minor": 0,
  "metadata": {
    "colab": {
      "name": "diabetes_project_francis.ipynb",
      "provenance": [],
      "collapsed_sections": [],
      "toc_visible": true
    },
    "kernelspec": {
      "name": "python3",
      "display_name": "Python 3"
    },
    "language_info": {
      "name": "python"
    }
  },
  "cells": [
    {
      "cell_type": "markdown",
      "metadata": {
        "id": "lDg2s9irtcmL"
      },
      "source": [
        "Prerequisites"
      ]
    },
    {
      "cell_type": "code",
      "metadata": {
        "id": "YTzlO4SvAPCV"
      },
      "source": [
        "# Import numpy and pandas libraries\n",
        "import pandas as pd\n",
        "import numpy as np\n"
      ],
      "execution_count": 2,
      "outputs": []
    }
  ]
}