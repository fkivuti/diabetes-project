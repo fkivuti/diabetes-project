{
  "nbformat": 4,
  "nbformat_minor": 0,
  "metadata": {
    "colab": {
      "name": "diabetes_project_francis.ipynb",
      "provenance": [],
      "collapsed_sections": [],
      "toc_visible": true
    },
    "kernelspec": {
      "name": "python3",
      "display_name": "Python 3"
    },
    "language_info": {
      "name": "python"
    }
  },
  "cells": [
    {
      "cell_type": "markdown",
      "metadata": {
        "id": "lDg2s9irtcmL"
      },
      "source": [
        "# Prerequisites"
      ]
    },
    {
      "cell_type": "code",
      "metadata": {
        "id": "YTzlO4SvAPCV"
      },
      "source": [
        "# Import numpy and pandas libraries to begin with\n",
        "import pandas as pd\n",
        "import numpy as np\n"
      ],
      "execution_count": 2,
      "outputs": []
    },
    {
      "cell_type": "markdown",
      "metadata": {
        "id": "p8lr3mDTYw_L"
      },
      "source": [
        "The question at hand is are we able to predict if a patient's diabetes status would turn our negative or positive based on the result of the various tests?\n",
        "\n",
        "The idea is that we highly test patients for diabetes where a model predicts that a particular patient is likely to test positive for iadbetes.\n",
        "\n",
        "This is a classification problem\n",
        "\n",
        "The success criteria is a model that is able to predict if a patient has diabetes or not with a success rate of above 85%"
      ]
    },
    {
      "cell_type": "markdown",
      "metadata": {
        "id": "xTGY_iYRxe2R"
      },
      "source": [
        "# Data Importation"
      ]
    },
    {
      "cell_type": "code",
      "metadata": {
        "colab": {
          "base_uri": "https://localhost:8080/",
          "height": 206
        },
        "id": "N_yAsG64u7Ts",
        "outputId": "920eb95a-cec5-4d51-ffb9-a8fe64d457cd"
      },
      "source": [
        "# Load the diabetes dataset and preview first few records\n",
        "diabetes_df = pd.read_csv(\"https://bit.ly/DiabetesDS\")\n",
        "diabetes_df.head()"
      ],
      "execution_count": 3,
      "outputs": [
        {
          "output_type": "execute_result",
          "data": {
            "text/html": [
              "<div>\n",
              "<style scoped>\n",
              "    .dataframe tbody tr th:only-of-type {\n",
              "        vertical-align: middle;\n",
              "    }\n",
              "\n",
              "    .dataframe tbody tr th {\n",
              "        vertical-align: top;\n",
              "    }\n",
              "\n",
              "    .dataframe thead th {\n",
              "        text-align: right;\n",
              "    }\n",
              "</style>\n",
              "<table border=\"1\" class=\"dataframe\">\n",
              "  <thead>\n",
              "    <tr style=\"text-align: right;\">\n",
              "      <th></th>\n",
              "      <th>Pregnancies</th>\n",
              "      <th>Glucose</th>\n",
              "      <th>BloodPressure</th>\n",
              "      <th>SkinThickness</th>\n",
              "      <th>Insulin</th>\n",
              "      <th>BMI</th>\n",
              "      <th>DiabetesPedigreeFunction</th>\n",
              "      <th>Age</th>\n",
              "      <th>Outcome</th>\n",
              "    </tr>\n",
              "  </thead>\n",
              "  <tbody>\n",
              "    <tr>\n",
              "      <th>0</th>\n",
              "      <td>6</td>\n",
              "      <td>148</td>\n",
              "      <td>72</td>\n",
              "      <td>35</td>\n",
              "      <td>0</td>\n",
              "      <td>33.6</td>\n",
              "      <td>0.627</td>\n",
              "      <td>50</td>\n",
              "      <td>1</td>\n",
              "    </tr>\n",
              "    <tr>\n",
              "      <th>1</th>\n",
              "      <td>1</td>\n",
              "      <td>85</td>\n",
              "      <td>66</td>\n",
              "      <td>29</td>\n",
              "      <td>0</td>\n",
              "      <td>26.6</td>\n",
              "      <td>0.351</td>\n",
              "      <td>31</td>\n",
              "      <td>0</td>\n",
              "    </tr>\n",
              "    <tr>\n",
              "      <th>2</th>\n",
              "      <td>8</td>\n",
              "      <td>183</td>\n",
              "      <td>64</td>\n",
              "      <td>0</td>\n",
              "      <td>0</td>\n",
              "      <td>23.3</td>\n",
              "      <td>0.672</td>\n",
              "      <td>32</td>\n",
              "      <td>1</td>\n",
              "    </tr>\n",
              "    <tr>\n",
              "      <th>3</th>\n",
              "      <td>1</td>\n",
              "      <td>89</td>\n",
              "      <td>66</td>\n",
              "      <td>23</td>\n",
              "      <td>94</td>\n",
              "      <td>28.1</td>\n",
              "      <td>0.167</td>\n",
              "      <td>21</td>\n",
              "      <td>0</td>\n",
              "    </tr>\n",
              "    <tr>\n",
              "      <th>4</th>\n",
              "      <td>0</td>\n",
              "      <td>137</td>\n",
              "      <td>40</td>\n",
              "      <td>35</td>\n",
              "      <td>168</td>\n",
              "      <td>43.1</td>\n",
              "      <td>2.288</td>\n",
              "      <td>33</td>\n",
              "      <td>1</td>\n",
              "    </tr>\n",
              "  </tbody>\n",
              "</table>\n",
              "</div>"
            ],
            "text/plain": [
              "   Pregnancies  Glucose  BloodPressure  ...  DiabetesPedigreeFunction  Age  Outcome\n",
              "0            6      148             72  ...                     0.627   50        1\n",
              "1            1       85             66  ...                     0.351   31        0\n",
              "2            8      183             64  ...                     0.672   32        1\n",
              "3            1       89             66  ...                     0.167   21        0\n",
              "4            0      137             40  ...                     2.288   33        1\n",
              "\n",
              "[5 rows x 9 columns]"
            ]
          },
          "metadata": {},
          "execution_count": 3
        }
      ]
    },
    {
      "cell_type": "markdown",
      "metadata": {
        "id": "CgIeywJdxsCX"
      },
      "source": [
        "# Data Exploration "
      ]
    },
    {
      "cell_type": "code",
      "metadata": {
        "colab": {
          "base_uri": "https://localhost:8080/"
        },
        "id": "eDVeF0Cxxofv",
        "outputId": "bab9578f-e0f1-49d0-bd3c-b47de09a1475"
      },
      "source": [
        "# Check dataframe structure\n",
        "diabetes_df.shape"
      ],
      "execution_count": 4,
      "outputs": [
        {
          "output_type": "execute_result",
          "data": {
            "text/plain": [
              "(768, 9)"
            ]
          },
          "metadata": {},
          "execution_count": 4
        }
      ]
    },
    {
      "cell_type": "code",
      "metadata": {
        "colab": {
          "base_uri": "https://localhost:8080/"
        },
        "id": "nfWU4EUVx_Ts",
        "outputId": "83889d00-3134-49cb-e796-0abfe161a81a"
      },
      "source": [
        "# Check the column datatypes\n",
        "diabetes_df.dtypes"
      ],
      "execution_count": 6,
      "outputs": [
        {
          "output_type": "execute_result",
          "data": {
            "text/plain": [
              "Pregnancies                   int64\n",
              "Glucose                       int64\n",
              "BloodPressure                 int64\n",
              "SkinThickness                 int64\n",
              "Insulin                       int64\n",
              "BMI                         float64\n",
              "DiabetesPedigreeFunction    float64\n",
              "Age                           int64\n",
              "Outcome                       int64\n",
              "dtype: object"
            ]
          },
          "metadata": {},
          "execution_count": 6
        }
      ]
    },
    {
      "cell_type": "code",
      "metadata": {
        "colab": {
          "base_uri": "https://localhost:8080/"
        },
        "id": "n-DA5E4byWqh",
        "outputId": "17d85562-c86d-4101-f302-59120c62c6ce"
      },
      "source": [
        "# Check if there any all null columns\n",
        "diabetes_df.isnull().any()"
      ],
      "execution_count": 7,
      "outputs": [
        {
          "output_type": "execute_result",
          "data": {
            "text/plain": [
              "Pregnancies                 False\n",
              "Glucose                     False\n",
              "BloodPressure               False\n",
              "SkinThickness               False\n",
              "Insulin                     False\n",
              "BMI                         False\n",
              "DiabetesPedigreeFunction    False\n",
              "Age                         False\n",
              "Outcome                     False\n",
              "dtype: bool"
            ]
          },
          "metadata": {},
          "execution_count": 7
        }
      ]
    },
    {
      "cell_type": "code",
      "metadata": {
        "colab": {
          "base_uri": "https://localhost:8080/"
        },
        "id": "rt6xyDotzKTL",
        "outputId": "5be457d4-ef99-4d04-a0cf-e8c178ae597f"
      },
      "source": [
        "# Select and preview unique Pregnacies\n",
        "diabetes_df.Pregnancies.unique().tolist()"
      ],
      "execution_count": 11,
      "outputs": [
        {
          "output_type": "execute_result",
          "data": {
            "text/plain": [
              "[6, 1, 8, 0, 5, 3, 10, 2, 4, 7, 9, 11, 13, 15, 17, 12, 14]"
            ]
          },
          "metadata": {},
          "execution_count": 11
        }
      ]
    },
    {
      "cell_type": "code",
      "metadata": {
        "colab": {
          "base_uri": "https://localhost:8080/"
        },
        "id": "6_d18dsM1jW9",
        "outputId": "d25d3d8f-30f1-4160-8201-02c0e497eb25"
      },
      "source": [
        "# Select and preview unique Outcomes\n",
        "diabetes_df.Outcome.unique().tolist()"
      ],
      "execution_count": 13,
      "outputs": [
        {
          "output_type": "execute_result",
          "data": {
            "text/plain": [
              "[1, 0]"
            ]
          },
          "metadata": {},
          "execution_count": 13
        }
      ]
    },
    {
      "cell_type": "code",
      "metadata": {
        "colab": {
          "base_uri": "https://localhost:8080/",
          "height": 49
        },
        "id": "CqGvY0nf1Pr2",
        "outputId": "6ac48cac-78f8-425b-d44e-553ed944cfb9"
      },
      "source": [
        "# Check for duplicate rows based on all columns\n",
        "diabetes_df[diabetes_df.duplicated()]"
      ],
      "execution_count": 12,
      "outputs": [
        {
          "output_type": "execute_result",
          "data": {
            "text/html": [
              "<div>\n",
              "<style scoped>\n",
              "    .dataframe tbody tr th:only-of-type {\n",
              "        vertical-align: middle;\n",
              "    }\n",
              "\n",
              "    .dataframe tbody tr th {\n",
              "        vertical-align: top;\n",
              "    }\n",
              "\n",
              "    .dataframe thead th {\n",
              "        text-align: right;\n",
              "    }\n",
              "</style>\n",
              "<table border=\"1\" class=\"dataframe\">\n",
              "  <thead>\n",
              "    <tr style=\"text-align: right;\">\n",
              "      <th></th>\n",
              "      <th>Pregnancies</th>\n",
              "      <th>Glucose</th>\n",
              "      <th>BloodPressure</th>\n",
              "      <th>SkinThickness</th>\n",
              "      <th>Insulin</th>\n",
              "      <th>BMI</th>\n",
              "      <th>DiabetesPedigreeFunction</th>\n",
              "      <th>Age</th>\n",
              "      <th>Outcome</th>\n",
              "    </tr>\n",
              "  </thead>\n",
              "  <tbody>\n",
              "  </tbody>\n",
              "</table>\n",
              "</div>"
            ],
            "text/plain": [
              "Empty DataFrame\n",
              "Columns: [Pregnancies, Glucose, BloodPressure, SkinThickness, Insulin, BMI, DiabetesPedigreeFunction, Age, Outcome]\n",
              "Index: []"
            ]
          },
          "metadata": {},
          "execution_count": 12
        }
      ]
    },
    {
      "cell_type": "markdown",
      "metadata": {
        "id": "JDUKwZ2V34ul"
      },
      "source": [
        "# Data Exploration Observations\n",
        "- The dataset 9 columns and 768 rows\n",
        "- All columns are of integer or float datatype\n",
        "- There are no duplicate rows\n",
        "- There are no null values in any of the columns\n",
        "- First 8 columns will form the features for our analysis while the Outcome column will be our target\n",
        "- So far the dataset look ok.\n",
        "\n"
      ]
    },
    {
      "cell_type": "markdown",
      "metadata": {
        "id": "WfkHKeR69Fse"
      },
      "source": [
        "# Data Cleanup"
      ]
    },
    {
      "cell_type": "markdown",
      "metadata": {
        "id": "UNmo8Wjd9WDy"
      },
      "source": [
        "We will undertake two clean up exercises.\n",
        "- When modeling, it is important to clean the data sample to ensure that the observations best represent the problem.\n",
        "- Sometimes a dataset can contain extreme values that are outside the range of what is expected and unlike the other data i.e. outliers.\n",
        "- Outliers are known to cause e.g. the linear regression model to learn a bias or skewed understanding of the problem, thus removing these outliers from the training set will allow a more effective model to be learned.\n",
        "\n",
        "Our first clean up excersie will be \n",
        "- Round of the Diabetes Pedegree Fuction to 2 decimal places\n",
        "- Remove outliers from the dataset"
      ]
    },
    {
      "cell_type": "code",
      "metadata": {
        "colab": {
          "base_uri": "https://localhost:8080/",
          "height": 206
        },
        "id": "F6PpZ_3-BBpe",
        "outputId": "960c0181-24bb-45c1-945d-35fcf2659c36"
      },
      "source": [
        "# Round diabetes pedegree function to 2 decimal places\n",
        "diabetes_df['DiabetesPedigreeFunction'] = diabetes_df['DiabetesPedigreeFunction'].round(decimals=2)\n",
        "diabetes_df.head()"
      ],
      "execution_count": 4,
      "outputs": [
        {
          "output_type": "execute_result",
          "data": {
            "text/html": [
              "<div>\n",
              "<style scoped>\n",
              "    .dataframe tbody tr th:only-of-type {\n",
              "        vertical-align: middle;\n",
              "    }\n",
              "\n",
              "    .dataframe tbody tr th {\n",
              "        vertical-align: top;\n",
              "    }\n",
              "\n",
              "    .dataframe thead th {\n",
              "        text-align: right;\n",
              "    }\n",
              "</style>\n",
              "<table border=\"1\" class=\"dataframe\">\n",
              "  <thead>\n",
              "    <tr style=\"text-align: right;\">\n",
              "      <th></th>\n",
              "      <th>Pregnancies</th>\n",
              "      <th>Glucose</th>\n",
              "      <th>BloodPressure</th>\n",
              "      <th>SkinThickness</th>\n",
              "      <th>Insulin</th>\n",
              "      <th>BMI</th>\n",
              "      <th>DiabetesPedigreeFunction</th>\n",
              "      <th>Age</th>\n",
              "      <th>Outcome</th>\n",
              "    </tr>\n",
              "  </thead>\n",
              "  <tbody>\n",
              "    <tr>\n",
              "      <th>0</th>\n",
              "      <td>6</td>\n",
              "      <td>148</td>\n",
              "      <td>72</td>\n",
              "      <td>35</td>\n",
              "      <td>0</td>\n",
              "      <td>33.6</td>\n",
              "      <td>0.63</td>\n",
              "      <td>50</td>\n",
              "      <td>1</td>\n",
              "    </tr>\n",
              "    <tr>\n",
              "      <th>1</th>\n",
              "      <td>1</td>\n",
              "      <td>85</td>\n",
              "      <td>66</td>\n",
              "      <td>29</td>\n",
              "      <td>0</td>\n",
              "      <td>26.6</td>\n",
              "      <td>0.35</td>\n",
              "      <td>31</td>\n",
              "      <td>0</td>\n",
              "    </tr>\n",
              "    <tr>\n",
              "      <th>2</th>\n",
              "      <td>8</td>\n",
              "      <td>183</td>\n",
              "      <td>64</td>\n",
              "      <td>0</td>\n",
              "      <td>0</td>\n",
              "      <td>23.3</td>\n",
              "      <td>0.67</td>\n",
              "      <td>32</td>\n",
              "      <td>1</td>\n",
              "    </tr>\n",
              "    <tr>\n",
              "      <th>3</th>\n",
              "      <td>1</td>\n",
              "      <td>89</td>\n",
              "      <td>66</td>\n",
              "      <td>23</td>\n",
              "      <td>94</td>\n",
              "      <td>28.1</td>\n",
              "      <td>0.17</td>\n",
              "      <td>21</td>\n",
              "      <td>0</td>\n",
              "    </tr>\n",
              "    <tr>\n",
              "      <th>4</th>\n",
              "      <td>0</td>\n",
              "      <td>137</td>\n",
              "      <td>40</td>\n",
              "      <td>35</td>\n",
              "      <td>168</td>\n",
              "      <td>43.1</td>\n",
              "      <td>2.29</td>\n",
              "      <td>33</td>\n",
              "      <td>1</td>\n",
              "    </tr>\n",
              "  </tbody>\n",
              "</table>\n",
              "</div>"
            ],
            "text/plain": [
              "   Pregnancies  Glucose  BloodPressure  ...  DiabetesPedigreeFunction  Age  Outcome\n",
              "0            6      148             72  ...                      0.63   50        1\n",
              "1            1       85             66  ...                      0.35   31        0\n",
              "2            8      183             64  ...                      0.67   32        1\n",
              "3            1       89             66  ...                      0.17   21        0\n",
              "4            0      137             40  ...                      2.29   33        1\n",
              "\n",
              "[5 rows x 9 columns]"
            ]
          },
          "metadata": {},
          "execution_count": 4
        }
      ]
    },
    {
      "cell_type": "code",
      "metadata": {
        "colab": {
          "base_uri": "https://localhost:8080/"
        },
        "id": "Iz959Bk9Al2A",
        "outputId": "19f4f6c4-4ac2-45eb-ffd6-36f5cc4bf41e"
      },
      "source": [
        "# Removing Outliers in the dataframe\n",
        "# We first defining our quantiles using the quantile() function\n",
        "# ---\n",
        "# \n",
        "Q1 = diabetes_df.quantile(0.25)\n",
        "Q3 = diabetes_df.quantile(0.75)\n",
        "IQR = Q3 - Q1\n",
        "IQR\n",
        "\n",
        "# Then filtering out our outliers by getting values which are outside our IQR Range.\n",
        "# ---\n",
        "#\n",
        "diabetes_df_iqr = diabetes_df[((diabetes_df < (Q1 - 1.5 * IQR)) | (diabetes_df > (Q3 + 1.5 * IQR))).any(axis=1)]\n",
        "\n",
        "# One way of dealing with outliers is removing them \n",
        "# Checking the size of the dataset with outliers for cleaning purposes\n",
        "# ---\n",
        "#\n",
        "diabetes_df_iqr.shape"
      ],
      "execution_count": 5,
      "outputs": [
        {
          "output_type": "execute_result",
          "data": {
            "text/plain": [
              "(128, 9)"
            ]
          },
          "metadata": {},
          "execution_count": 5
        }
      ]
    },
    {
      "cell_type": "code",
      "metadata": {
        "colab": {
          "base_uri": "https://localhost:8080/",
          "height": 424
        },
        "id": "zosrSvSVFaUj",
        "outputId": "668c37f5-25e4-432a-948d-1c9af5808d1b"
      },
      "source": [
        "# Explore the outliers before deleting them\n",
        "diabetes_df_iqr"
      ],
      "execution_count": 7,
      "outputs": [
        {
          "output_type": "execute_result",
          "data": {
            "text/html": [
              "<div>\n",
              "<style scoped>\n",
              "    .dataframe tbody tr th:only-of-type {\n",
              "        vertical-align: middle;\n",
              "    }\n",
              "\n",
              "    .dataframe tbody tr th {\n",
              "        vertical-align: top;\n",
              "    }\n",
              "\n",
              "    .dataframe thead th {\n",
              "        text-align: right;\n",
              "    }\n",
              "</style>\n",
              "<table border=\"1\" class=\"dataframe\">\n",
              "  <thead>\n",
              "    <tr style=\"text-align: right;\">\n",
              "      <th></th>\n",
              "      <th>Pregnancies</th>\n",
              "      <th>Glucose</th>\n",
              "      <th>BloodPressure</th>\n",
              "      <th>SkinThickness</th>\n",
              "      <th>Insulin</th>\n",
              "      <th>BMI</th>\n",
              "      <th>DiabetesPedigreeFunction</th>\n",
              "      <th>Age</th>\n",
              "      <th>Outcome</th>\n",
              "    </tr>\n",
              "  </thead>\n",
              "  <tbody>\n",
              "    <tr>\n",
              "      <th>4</th>\n",
              "      <td>0</td>\n",
              "      <td>137</td>\n",
              "      <td>40</td>\n",
              "      <td>35</td>\n",
              "      <td>168</td>\n",
              "      <td>43.1</td>\n",
              "      <td>2.29</td>\n",
              "      <td>33</td>\n",
              "      <td>1</td>\n",
              "    </tr>\n",
              "    <tr>\n",
              "      <th>7</th>\n",
              "      <td>10</td>\n",
              "      <td>115</td>\n",
              "      <td>0</td>\n",
              "      <td>0</td>\n",
              "      <td>0</td>\n",
              "      <td>35.3</td>\n",
              "      <td>0.13</td>\n",
              "      <td>29</td>\n",
              "      <td>0</td>\n",
              "    </tr>\n",
              "    <tr>\n",
              "      <th>8</th>\n",
              "      <td>2</td>\n",
              "      <td>197</td>\n",
              "      <td>70</td>\n",
              "      <td>45</td>\n",
              "      <td>543</td>\n",
              "      <td>30.5</td>\n",
              "      <td>0.16</td>\n",
              "      <td>53</td>\n",
              "      <td>1</td>\n",
              "    </tr>\n",
              "    <tr>\n",
              "      <th>9</th>\n",
              "      <td>8</td>\n",
              "      <td>125</td>\n",
              "      <td>96</td>\n",
              "      <td>0</td>\n",
              "      <td>0</td>\n",
              "      <td>0.0</td>\n",
              "      <td>0.23</td>\n",
              "      <td>54</td>\n",
              "      <td>1</td>\n",
              "    </tr>\n",
              "    <tr>\n",
              "      <th>12</th>\n",
              "      <td>10</td>\n",
              "      <td>139</td>\n",
              "      <td>80</td>\n",
              "      <td>0</td>\n",
              "      <td>0</td>\n",
              "      <td>27.1</td>\n",
              "      <td>1.44</td>\n",
              "      <td>57</td>\n",
              "      <td>0</td>\n",
              "    </tr>\n",
              "    <tr>\n",
              "      <th>...</th>\n",
              "      <td>...</td>\n",
              "      <td>...</td>\n",
              "      <td>...</td>\n",
              "      <td>...</td>\n",
              "      <td>...</td>\n",
              "      <td>...</td>\n",
              "      <td>...</td>\n",
              "      <td>...</td>\n",
              "      <td>...</td>\n",
              "    </tr>\n",
              "    <tr>\n",
              "      <th>706</th>\n",
              "      <td>10</td>\n",
              "      <td>115</td>\n",
              "      <td>0</td>\n",
              "      <td>0</td>\n",
              "      <td>0</td>\n",
              "      <td>0.0</td>\n",
              "      <td>0.26</td>\n",
              "      <td>30</td>\n",
              "      <td>1</td>\n",
              "    </tr>\n",
              "    <tr>\n",
              "      <th>707</th>\n",
              "      <td>2</td>\n",
              "      <td>127</td>\n",
              "      <td>46</td>\n",
              "      <td>21</td>\n",
              "      <td>335</td>\n",
              "      <td>34.4</td>\n",
              "      <td>0.18</td>\n",
              "      <td>22</td>\n",
              "      <td>0</td>\n",
              "    </tr>\n",
              "    <tr>\n",
              "      <th>710</th>\n",
              "      <td>3</td>\n",
              "      <td>158</td>\n",
              "      <td>64</td>\n",
              "      <td>13</td>\n",
              "      <td>387</td>\n",
              "      <td>31.2</td>\n",
              "      <td>0.30</td>\n",
              "      <td>24</td>\n",
              "      <td>0</td>\n",
              "    </tr>\n",
              "    <tr>\n",
              "      <th>715</th>\n",
              "      <td>7</td>\n",
              "      <td>187</td>\n",
              "      <td>50</td>\n",
              "      <td>33</td>\n",
              "      <td>392</td>\n",
              "      <td>33.9</td>\n",
              "      <td>0.83</td>\n",
              "      <td>34</td>\n",
              "      <td>1</td>\n",
              "    </tr>\n",
              "    <tr>\n",
              "      <th>753</th>\n",
              "      <td>0</td>\n",
              "      <td>181</td>\n",
              "      <td>88</td>\n",
              "      <td>44</td>\n",
              "      <td>510</td>\n",
              "      <td>43.3</td>\n",
              "      <td>0.22</td>\n",
              "      <td>26</td>\n",
              "      <td>1</td>\n",
              "    </tr>\n",
              "  </tbody>\n",
              "</table>\n",
              "<p>128 rows × 9 columns</p>\n",
              "</div>"
            ],
            "text/plain": [
              "     Pregnancies  Glucose  ...  Age  Outcome\n",
              "4              0      137  ...   33        1\n",
              "7             10      115  ...   29        0\n",
              "8              2      197  ...   53        1\n",
              "9              8      125  ...   54        1\n",
              "12            10      139  ...   57        0\n",
              "..           ...      ...  ...  ...      ...\n",
              "706           10      115  ...   30        1\n",
              "707            2      127  ...   22        0\n",
              "710            3      158  ...   24        0\n",
              "715            7      187  ...   34        1\n",
              "753            0      181  ...   26        1\n",
              "\n",
              "[128 rows x 9 columns]"
            ]
          },
          "metadata": {},
          "execution_count": 7
        }
      ]
    },
    {
      "cell_type": "markdown",
      "metadata": {
        "id": "lN810SKJD0Xo"
      },
      "source": [
        "We will omit 128 rows from the dataset of which are outliers so that have a dataset that help create a more effective model "
      ]
    },
    {
      "cell_type": "code",
      "metadata": {
        "colab": {
          "base_uri": "https://localhost:8080/"
        },
        "id": "BTuFZ1q9GFBT",
        "outputId": "b4978f22-1e2a-4659-8167-9fd4a027c879"
      },
      "source": [
        "# Lets drop the outliers and retain a clean dataframe\n",
        "clean_df = diabetes_df[ ~((diabetes_df < (Q1 - 1.5 * IQR)) | (diabetes_df > (Q3 + 1.5 * IQR))).any(axis=1)]\n",
        "\n",
        "# Checking the size of our final dataset.\n",
        "clean_df.shape"
      ],
      "execution_count": 6,
      "outputs": [
        {
          "output_type": "execute_result",
          "data": {
            "text/plain": [
              "(640, 9)"
            ]
          },
          "metadata": {},
          "execution_count": 6
        }
      ]
    },
    {
      "cell_type": "markdown",
      "metadata": {
        "id": "NZldg5vIGkCU"
      },
      "source": [
        "Our clean dataframe has 640 rows and 9 columns"
      ]
    },
    {
      "cell_type": "markdown",
      "metadata": {
        "id": "XZQKaFP-IxQm"
      },
      "source": [
        "# Data Preparation and Modeling"
      ]
    },
    {
      "cell_type": "markdown",
      "metadata": {
        "id": "PB1jNncKbOO1"
      },
      "source": [
        "# Decision Tree"
      ]
    },
    {
      "cell_type": "markdown",
      "metadata": {
        "id": "iow-HK6EKrV3"
      },
      "source": [
        "Decision Tree: 1- Test the max_depth parameter that gives us the highest accuracy for our model"
      ]
    },
    {
      "cell_type": "code",
      "metadata": {
        "colab": {
          "base_uri": "https://localhost:8080/"
        },
        "id": "t9XRDuGmJlIE",
        "outputId": "1f32391c-d87c-4e50-8fc4-0835d8ac2d73"
      },
      "source": [
        "# import DecisionTreeClassifier from sklearn 7 train_test_split\n",
        "from sklearn.tree import DecisionTreeClassifier\n",
        "from sklearn.metrics import accuracy_score\n",
        "from sklearn.model_selection import train_test_split\n",
        "\n",
        "# define features and target\n",
        "features = clean_df.drop(['Outcome'], axis=1)\n",
        "target = clean_df['Outcome']\n",
        "\n",
        "# split the dataset between tran set and test set with test_size being 25% of the dataset\n",
        "features_train, features_valid, target_train, target_valid = train_test_split(\n",
        "    features, target, test_size=0.25, random_state=123456789\n",
        ")\n",
        "\n",
        "# declare four variables\n",
        "features_train = features_train\n",
        "target_train = target_train\n",
        "features_valid = features_valid\n",
        "target_valid = target_valid\n",
        "\n",
        "for depth in range(1, 20):\n",
        "        model = DecisionTreeClassifier(random_state=123456789, max_depth=depth) # < create a model, specify max_depth=depth >\n",
        "\n",
        "        model.fit(features_train, target_train) # < train the model >\n",
        "\n",
        "        predictions_valid = model.predict(features_valid) # < find the predictions using validation set >\n",
        "\n",
        "        print(\"max_depth =\", depth, \": \", end='')\n",
        "        print(accuracy_score(target_valid, predictions_valid))"
      ],
      "execution_count": 10,
      "outputs": [
        {
          "output_type": "stream",
          "name": "stdout",
          "text": [
            "max_depth = 1 : 0.7875\n",
            "max_depth = 2 : 0.7625\n",
            "max_depth = 3 : 0.7625\n",
            "max_depth = 4 : 0.725\n",
            "max_depth = 5 : 0.73125\n",
            "max_depth = 6 : 0.76875\n",
            "max_depth = 7 : 0.775\n",
            "max_depth = 8 : 0.7875\n",
            "max_depth = 9 : 0.78125\n",
            "max_depth = 10 : 0.76875\n",
            "max_depth = 11 : 0.7625\n",
            "max_depth = 12 : 0.74375\n",
            "max_depth = 13 : 0.76875\n",
            "max_depth = 14 : 0.775\n",
            "max_depth = 15 : 0.75\n",
            "max_depth = 16 : 0.75\n",
            "max_depth = 17 : 0.75\n",
            "max_depth = 18 : 0.75\n",
            "max_depth = 19 : 0.75\n"
          ]
        }
      ]
    },
    {
      "cell_type": "markdown",
      "metadata": {
        "id": "cqJsIRlPXwB9"
      },
      "source": [
        "Implement using a max_depth of 8 for the best accuracy of 79% when random state is set to 123456789"
      ]
    },
    {
      "cell_type": "code",
      "metadata": {
        "colab": {
          "base_uri": "https://localhost:8080/"
        },
        "id": "S4PY65AsXuiL",
        "outputId": "a3d04c36-f854-4e3d-d6bc-ee279a4b4763"
      },
      "source": [
        "# import DecisionTreeClassifier from sklearn\n",
        "from sklearn.tree import DecisionTreeClassifier\n",
        "from sklearn.metrics import accuracy_score\n",
        "from sklearn.model_selection import train_test_split\n",
        "\n",
        "# define features and target\n",
        "features = clean_df.drop(['Outcome'], axis=1)\n",
        "target = clean_df['Outcome']\n",
        "\n",
        "# split the dataset between tran set and test set with test_size being 25% of the dataset\n",
        "features_train, features_valid, target_train, target_valid = train_test_split(\n",
        "    features, target, test_size=0.25, random_state=123456789\n",
        ")\n",
        "\n",
        "# declare four variables\n",
        "features_train = features_train\n",
        "target_train = target_train\n",
        "features_valid = features_valid\n",
        "target_valid = target_valid\n",
        "\n",
        "# create a decison tree classifier model and set max_depth to 8\n",
        "model = DecisionTreeClassifier(random_state=123456789, max_depth=8)\n",
        "      \n",
        "# train the model\n",
        "model.fit(features_train, target_train)\n",
        "\n",
        "# predict and convert outcome to a 1 dimensional array and print the outcome\n",
        "predicted_valid = pd.Series(model.predict(features_valid))  \n",
        "# print(predicted_valid.head())\n",
        "\n",
        "# check model accuracy and print the outcome\n",
        "accuracy_valid = accuracy_score(predicted_valid, target_valid) \n",
        "print(accuracy_valid)"
      ],
      "execution_count": 11,
      "outputs": [
        {
          "output_type": "stream",
          "name": "stdout",
          "text": [
            "0.7875\n"
          ]
        }
      ]
    },
    {
      "cell_type": "markdown",
      "metadata": {
        "id": "ueq9EDHTcSRg"
      },
      "source": [
        "# Random Forest"
      ]
    },
    {
      "cell_type": "markdown",
      "metadata": {
        "id": "VIWfhWt_eHNQ"
      },
      "source": [
        "Random Forest: 1- Test the n_stimator parameter that gives us the highest accuracy for our model"
      ]
    },
    {
      "cell_type": "code",
      "metadata": {
        "colab": {
          "base_uri": "https://localhost:8080/"
        },
        "id": "MnMCHv_PckGP",
        "outputId": "c417c1ed-6b9e-4a6f-9f78-b575ec30caa3"
      },
      "source": [
        "# import RandomForestClassifier from sklearn & train_test_split\n",
        "from sklearn.ensemble import RandomForestClassifier\n",
        "from sklearn.metrics import accuracy_score\n",
        "from sklearn.model_selection import train_test_split\n",
        "\n",
        "# define features and target\n",
        "features = clean_df.drop(['Outcome'], axis=1)\n",
        "target = clean_df['Outcome']\n",
        "\n",
        "# split the dataset between tran set and test set with test_size being 25% of the dataset\n",
        "features_train, features_valid, target_train, target_valid = train_test_split(\n",
        "    features, target, test_size=0.25, random_state=42\n",
        ")\n",
        "\n",
        "# declare four variables\n",
        "features_train = features_train\n",
        "target_train = target_train\n",
        "features_valid = features_valid\n",
        "target_valid = target_valid\n",
        "\n",
        "for estimator in range(1, 25):\n",
        "        model = RandomForestClassifier(random_state=42, n_estimators=estimator) # < create a model >\n",
        "\n",
        "        model.fit(features_train, target_train) # < train the model >\n",
        "\n",
        "        predictions_valid = model.score(features_valid, target_valid) # < find the predictions using validation set >\n",
        "\n",
        "        print(\"n_estimators =\", estimator, \": \", end='')\n",
        "        print(predictions_valid)\n",
        "\n",
        "for depth in range(1, 17):\n",
        "        model = RandomForestClassifier(random_state=42, max_depth=depth) # < create a model, specify max_depth=depth >\n",
        "\n",
        "        model.fit(features_train, target_train) # < train the model >\n",
        "\n",
        "        predictions_valid = model.predict(features_valid) # < find the predictions using validation set >\n",
        "\n",
        "        print(\"max_depth =\", depth, \": \", end='')\n",
        "        print(accuracy_score(target_valid, predictions_valid))"
      ],
      "execution_count": 12,
      "outputs": [
        {
          "output_type": "stream",
          "name": "stdout",
          "text": [
            "n_estimators = 1 : 0.70625\n",
            "n_estimators = 2 : 0.74375\n",
            "n_estimators = 3 : 0.74375\n",
            "n_estimators = 4 : 0.76875\n",
            "n_estimators = 5 : 0.775\n",
            "n_estimators = 6 : 0.775\n",
            "n_estimators = 7 : 0.7875\n",
            "n_estimators = 8 : 0.775\n",
            "n_estimators = 9 : 0.775\n",
            "n_estimators = 10 : 0.79375\n",
            "n_estimators = 11 : 0.76875\n",
            "n_estimators = 12 : 0.775\n",
            "n_estimators = 13 : 0.7875\n",
            "n_estimators = 14 : 0.79375\n",
            "n_estimators = 15 : 0.79375\n",
            "n_estimators = 16 : 0.80625\n",
            "n_estimators = 17 : 0.7875\n",
            "n_estimators = 18 : 0.79375\n",
            "n_estimators = 19 : 0.8125\n",
            "n_estimators = 20 : 0.8375\n",
            "n_estimators = 21 : 0.825\n",
            "n_estimators = 22 : 0.825\n",
            "n_estimators = 23 : 0.8125\n",
            "n_estimators = 24 : 0.8375\n",
            "max_depth = 1 : 0.7125\n",
            "max_depth = 2 : 0.76875\n",
            "max_depth = 3 : 0.775\n",
            "max_depth = 4 : 0.79375\n",
            "max_depth = 5 : 0.80625\n",
            "max_depth = 6 : 0.80625\n",
            "max_depth = 7 : 0.8\n",
            "max_depth = 8 : 0.80625\n",
            "max_depth = 9 : 0.78125\n",
            "max_depth = 10 : 0.79375\n",
            "max_depth = 11 : 0.81875\n",
            "max_depth = 12 : 0.8125\n",
            "max_depth = 13 : 0.825\n",
            "max_depth = 14 : 0.8125\n",
            "max_depth = 15 : 0.825\n",
            "max_depth = 16 : 0.83125\n"
          ]
        }
      ]
    },
    {
      "cell_type": "markdown",
      "metadata": {
        "id": "ag3vLSYseWY_"
      },
      "source": [
        "2: Implement using n_estimator value of 16 for the best accuracy of 84% when random state is set to 42"
      ]
    },
    {
      "cell_type": "code",
      "metadata": {
        "colab": {
          "base_uri": "https://localhost:8080/"
        },
        "id": "_lPmMU4zeUtR",
        "outputId": "9e905295-734d-4d10-be09-a0b0d2e8ac0c"
      },
      "source": [
        "# import RandomForestClassifier from sklearn & train_test_split\n",
        "from sklearn.ensemble import RandomForestClassifier\n",
        "from sklearn.metrics import accuracy_score\n",
        "from sklearn.model_selection import train_test_split\n",
        "from sklearn.model_selection import RandomizedSearchCV\n",
        "\n",
        "# define features and target\n",
        "features = clean_df.drop(['Outcome'], axis=1)\n",
        "target = clean_df['Outcome']\n",
        "\n",
        "# split the dataset between tran set and test set with test_size being 25% of the dataset\n",
        "features_train, features_valid, target_train, target_valid = train_test_split(\n",
        "    features, target, test_size=0.25, random_state=42)\n",
        "\n",
        "# declare four variables\n",
        "features_train = features_train\n",
        "target_train = target_train\n",
        "features_valid = features_valid\n",
        "target_valid = target_valid\n",
        "\n",
        "\n",
        "# create a random forest classifier model and set n_estimators to 20 and max_depth at 16\n",
        "model = RandomForestClassifier(random_state=42, n_estimators=20, max_depth=16)\n",
        "      \n",
        "# train the model\n",
        "model.fit(features_train, target_train)\n",
        "\n",
        "# predict and convert outcome to a 1 dimensional array and print the outcome\n",
        "predicted_valid = pd.Series(model.predict(features_valid))  \n",
        "# print(predicted_valid.head())\n",
        "\n",
        "# check model accuracy and print the model parameters\n",
        "accuracy_valid = accuracy_score(predicted_valid, target_valid) \n",
        "print(\"Accuracy:\", accuracy_valid)\n",
        "\n",
        "print(model)\n",
        "\n",
        "# Define a new entry and predict the outcome\n",
        "new_features = pd.DataFrame(\n",
        "    [\n",
        "        [10, 130, 50, 45, 30, 33.0, 0.321, 35],\n",
        "    ],\n",
        "    columns=features_train.columns\n",
        ")\n",
        "\n",
        "# Predict the outcome\n",
        "Outcome = model.predict(new_features)\n",
        "print(\"Outcome:\", Outcome)\n"
      ],
      "execution_count": 28,
      "outputs": [
        {
          "output_type": "stream",
          "name": "stdout",
          "text": [
            "Accuracy: 0.8375\n",
            "RandomForestClassifier(bootstrap=True, ccp_alpha=0.0, class_weight=None,\n",
            "                       criterion='gini', max_depth=16, max_features='auto',\n",
            "                       max_leaf_nodes=None, max_samples=None,\n",
            "                       min_impurity_decrease=0.0, min_impurity_split=None,\n",
            "                       min_samples_leaf=1, min_samples_split=2,\n",
            "                       min_weight_fraction_leaf=0.0, n_estimators=20,\n",
            "                       n_jobs=None, oob_score=False, random_state=42, verbose=0,\n",
            "                       warm_start=False)\n",
            "Outcome: [0]\n"
          ]
        }
      ]
    },
    {
      "cell_type": "markdown",
      "metadata": {
        "id": "3zi8fMvUiL_B"
      },
      "source": [
        "Our model has an 84% accuracy level and predicts that a sample entry tested would turn out negative for diabetes."
      ]
    },
    {
      "cell_type": "markdown",
      "metadata": {
        "id": "qQ_RPqoSZOng"
      },
      "source": [
        "2.1  Test RandomForestRegressor model"
      ]
    },
    {
      "cell_type": "code",
      "metadata": {
        "colab": {
          "base_uri": "https://localhost:8080/"
        },
        "id": "Bp_lPUTPZY-u",
        "outputId": "b46b224c-9757-4707-d1d4-8373839ce98d"
      },
      "source": [
        "from sklearn.ensemble import RandomForestRegressor \n",
        "# define features and target\n",
        "features = clean_df.drop(['Outcome'], axis=1)\n",
        "target = clean_df['Outcome']\n",
        "\n",
        "# split the dataset between tran set and test set with test_size being 25% of the dataset\n",
        "features_train, features_valid, target_train, target_valid = train_test_split(\n",
        "    features, target, test_size=0.25, random_state=42\n",
        ")\n",
        "\n",
        "# declare four variables\n",
        "features_train = features_train\n",
        "target_train = target_train\n",
        "features_valid = features_valid\n",
        "target_valid = target_valid\n",
        "\n",
        "for estimator in range(1, 25):\n",
        "        model = RandomForestRegressor (random_state=42, n_estimators=estimator) # < create a model >\n",
        "\n",
        "        model.fit(features_train, target_train) # < train the model >\n",
        "\n",
        "        predictions_valid = model.score(features_valid, target_valid) # < find the predictions using validation set >\n",
        "\n",
        "        print(\"n_estimators =\", estimator, \": \", end='')\n",
        "        print(predictions_valid)\n",
        "\n",
        "for depth in range(1, 17):\n",
        "        model = RandomForestRegressor(random_state=42, max_depth=depth) # < create a model, specify max_depth=depth >\n",
        "\n",
        "        model.fit(features_train, target_train) # < train the model >\n",
        "\n",
        "        predictions_valid = model.predict(features_valid) # < find the predictions using validation set >\n",
        "\n",
        "        print(\"max_depth =\", depth, \": \", end='')\n",
        "        print(model.score(features_valid, target_valid)) "
      ],
      "execution_count": 15,
      "outputs": [
        {
          "output_type": "stream",
          "name": "stdout",
          "text": [
            "n_estimators = 1 : -0.33818181818181814\n",
            "n_estimators = 2 : -0.040000000000000036\n",
            "n_estimators = 3 : 0.040000000000000036\n",
            "n_estimators = 4 : 0.13818181818181818\n",
            "n_estimators = 5 : 0.2040727272727273\n",
            "n_estimators = 6 : 0.23393939393939403\n",
            "n_estimators = 7 : 0.21751391465677172\n",
            "n_estimators = 8 : 0.19727272727272727\n",
            "n_estimators = 9 : 0.20879910213243547\n",
            "n_estimators = 10 : 0.23025454545454538\n",
            "n_estimators = 11 : 0.23906836964688202\n",
            "n_estimators = 12 : 0.24222222222222212\n",
            "n_estimators = 13 : 0.24587412587412583\n",
            "n_estimators = 14 : 0.23858998144712415\n",
            "n_estimators = 15 : 0.2532040404040402\n",
            "n_estimators = 16 : 0.2623863636363636\n",
            "n_estimators = 17 : 0.2695061340044038\n",
            "n_estimators = 18 : 0.27030303030303027\n",
            "n_estimators = 19 : 0.2634600856207505\n",
            "n_estimators = 20 : 0.25709090909090904\n",
            "n_estimators = 21 : 0.2609193980622553\n",
            "n_estimators = 22 : 0.25920360631104433\n",
            "n_estimators = 23 : 0.26398350231998635\n",
            "n_estimators = 24 : 0.26515151515151514\n",
            "max_depth = 1 : 0.20935609830693347\n",
            "max_depth = 2 : 0.2801428801891893\n",
            "max_depth = 3 : 0.3215306473897559\n",
            "max_depth = 4 : 0.33455499033809455\n",
            "max_depth = 5 : 0.32767512972006585\n",
            "max_depth = 6 : 0.31662937983360073\n",
            "max_depth = 7 : 0.3243601139672224\n",
            "max_depth = 8 : 0.31238344260257944\n",
            "max_depth = 9 : 0.3101930220187924\n",
            "max_depth = 10 : 0.30437203505913724\n",
            "max_depth = 11 : 0.3013303116013756\n",
            "max_depth = 12 : 0.29570770944340186\n",
            "max_depth = 13 : 0.29023791336399496\n",
            "max_depth = 14 : 0.2910170861090241\n",
            "max_depth = 15 : 0.2922235404040405\n",
            "max_depth = 16 : 0.2914327272727273\n"
          ]
        }
      ]
    },
    {
      "cell_type": "markdown",
      "metadata": {
        "id": "5eJiz7ThaeJX"
      },
      "source": [
        "2.2 Our data is numerical thus we implement a RandomForestRegressor Model with n_estimators set to 3. "
      ]
    },
    {
      "cell_type": "code",
      "metadata": {
        "colab": {
          "base_uri": "https://localhost:8080/"
        },
        "id": "lzEq2yDFQv7E",
        "outputId": "5b495500-7d9c-4083-a810-d44181285264"
      },
      "source": [
        "from sklearn.ensemble import RandomForestRegressor \n",
        "# define features and target\n",
        "features = clean_df.drop(['Outcome'], axis=1)\n",
        "target = clean_df['Outcome']\n",
        "\n",
        "# split the dataset between tran set and test set with test_size being 25% of the dataset\n",
        "features_train, features_valid, target_train, target_valid = train_test_split(\n",
        "    features, target, test_size=0.25, random_state=42)\n",
        "\n",
        "# declare four variables\n",
        "features_train = features_train\n",
        "target_train = target_train\n",
        "features_valid = features_valid\n",
        "target_valid = target_valid\n",
        "\n",
        "# create a regressor object\n",
        "random_regressor = RandomForestRegressor(random_state =42,  n_estimators=3)\n",
        "\n",
        "# fit the regressor with X and Y data\n",
        "random_regressor.fit(features_train, target_train)\n",
        "\n",
        "# predicting Outcome\n",
        "random_regressor.predict(features_valid) \n",
        "\n",
        "# check accuracy level\n",
        "accuracy = random_regressor.score(features_valid, target_valid) \n",
        "print(\"Accuracy:\", accuracy)\n",
        "\n",
        "# Define a new entry and predict the outcome\n",
        "new_features = pd.DataFrame(\n",
        "    [\n",
        "        [10, 130, 50, 45, 30, 33.0, 0.321, 35],\n",
        "    ],\n",
        "    columns=features_train.columns\n",
        ")\n",
        "\n",
        "# Predict the outcome\n",
        "Outcome = random_regressor.predict(new_features)\n",
        "print(\"Outcome:\", Outcome)\n"
      ],
      "execution_count": 27,
      "outputs": [
        {
          "output_type": "stream",
          "name": "stdout",
          "text": [
            "Accuracy: 0.040000000000000036\n",
            "Outcome: [1.]\n"
          ]
        }
      ]
    },
    {
      "cell_type": "markdown",
      "metadata": {
        "id": "OvRAH8HjSKdM"
      },
      "source": [
        "Our test data shows that the patient was predictied to be diabetic with an error of 0.04 or 96% accuracy"
      ]
    },
    {
      "cell_type": "code",
      "metadata": {
        "colab": {
          "base_uri": "https://localhost:8080/"
        },
        "id": "LTw4-GgmdQ_l",
        "outputId": "dbc7640d-80e4-4569-fff6-f8525eae8883"
      },
      "source": [
        "# from sklearn.model_selection import GridSearchCV\n",
        "# # Create the parameter grid based on the results of random search \n",
        "# param_grid = {\n",
        "#     'bootstrap': [True],\n",
        "#     'max_depth': [80, 90, 100, 110],\n",
        "#     'max_features': [2, 3],\n",
        "#     'min_samples_leaf': [3, 4, 5],\n",
        "#     'min_samples_split': [8, 10, 12],\n",
        "#     'n_estimators': [100, 200, 300, 1000]\n",
        "# }\n",
        "# # Create a based model\n",
        "# model = RandomForestClassifier(random_state=42, n_estimators=20, max_depth=16)\n",
        "# # Instantiate the grid search model\n",
        "# grid_search = GridSearchCV(estimator = model, param_grid = param_grid, \n",
        "#                           cv = 3, n_jobs = -1, verbose = 2)\n",
        "\n",
        "# # Fit the grid search to the data\n",
        "# grid_search.fit(features_train, target_train)\n",
        "# grid_search.best_params_\n",
        "# {'bootstrap': True,\n",
        "#  'max_depth': 80,\n",
        "#  'max_features': 3,\n",
        "#  'min_samples_leaf': 5,\n",
        "#  'min_samples_split': 12,\n",
        "#  'n_estimators': 100}\n",
        "# best_grid = grid_search.best_estimator_\n",
        "# # grid_accuracy = evaluate(best_grid, features_valid, target_valid)\n",
        "\n",
        "# print(best_grid)"
      ],
      "execution_count": 14,
      "outputs": [
        {
          "output_type": "stream",
          "name": "stdout",
          "text": [
            "Fitting 3 folds for each of 288 candidates, totalling 864 fits\n"
          ]
        },
        {
          "output_type": "stream",
          "name": "stderr",
          "text": [
            "[Parallel(n_jobs=-1)]: Using backend LokyBackend with 2 concurrent workers.\n",
            "[Parallel(n_jobs=-1)]: Done  37 tasks      | elapsed:   18.3s\n",
            "[Parallel(n_jobs=-1)]: Done 158 tasks      | elapsed:  1.4min\n",
            "[Parallel(n_jobs=-1)]: Done 361 tasks      | elapsed:  3.1min\n",
            "[Parallel(n_jobs=-1)]: Done 644 tasks      | elapsed:  5.6min\n",
            "[Parallel(n_jobs=-1)]: Done 864 out of 864 | elapsed:  7.6min finished\n"
          ]
        },
        {
          "output_type": "stream",
          "name": "stdout",
          "text": [
            "RandomForestClassifier(bootstrap=True, ccp_alpha=0.0, class_weight=None,\n",
            "                       criterion='gini', max_depth=80, max_features=2,\n",
            "                       max_leaf_nodes=None, max_samples=None,\n",
            "                       min_impurity_decrease=0.0, min_impurity_split=None,\n",
            "                       min_samples_leaf=4, min_samples_split=12,\n",
            "                       min_weight_fraction_leaf=0.0, n_estimators=200,\n",
            "                       n_jobs=None, oob_score=False, random_state=42, verbose=0,\n",
            "                       warm_start=False)\n"
          ]
        }
      ]
    },
    {
      "cell_type": "markdown",
      "metadata": {
        "id": "1MJ921QagdrJ"
      },
      "source": [
        "# Logistic Regression"
      ]
    },
    {
      "cell_type": "code",
      "metadata": {
        "id": "khqcNEZubwSe"
      },
      "source": [
        ""
      ],
      "execution_count": null,
      "outputs": []
    },
    {
      "cell_type": "code",
      "metadata": {
        "colab": {
          "base_uri": "https://localhost:8080/"
        },
        "id": "Zzk4h0pfiHri",
        "outputId": "3c9d77a0-99a9-4cc0-9318-168bb4879ab2"
      },
      "source": [
        "# import LogisticRegression from sklearn & train_test_split\n",
        "from sklearn.linear_model import LogisticRegression\n",
        "from sklearn.metrics import accuracy_score\n",
        "from sklearn.model_selection import train_test_split\n",
        "\n",
        "# define features and target\n",
        "features = clean_df.drop(['Outcome'], axis=1)\n",
        "target = clean_df['Outcome']\n",
        "\n",
        "# split the dataset between tran set and test set with test_size being 25% of the dataset\n",
        "features_train, features_valid, target_train, target_valid = train_test_split(\n",
        "    features, target, test_size=0.25, random_state=12345\n",
        ")\n",
        "\n",
        "# declare four variables\n",
        "features_train = features_train\n",
        "target_train = target_train\n",
        "features_valid = features_valid\n",
        "target_valid = target_valid\n",
        "\n",
        "\n",
        "model = LogisticRegression(random_state=12345, solver='liblinear')  # < create a model, specify random state as 12345>\n",
        "\n",
        "model.fit(features_train, target_train) # < train the model >\n",
        "\n",
        "predictions_valid = model.score(features_valid, target_valid) # < find the predictions using validation set >\n",
        "\n",
        "print(predictions_valid)"
      ],
      "execution_count": 84,
      "outputs": [
        {
          "output_type": "stream",
          "name": "stdout",
          "text": [
            "0.76875\n"
          ]
        }
      ]
    },
    {
      "cell_type": "markdown",
      "metadata": {
        "id": "fb7gnKRISgXI"
      },
      "source": [
        "# Findings and Recommendations"
      ]
    },
    {
      "cell_type": "markdown",
      "metadata": {
        "id": "NJY3ygpwXZL6"
      },
      "source": [
        "- Our data is fully numerical.  \n",
        "- Non of the records were found to have null values.\n",
        "- To preventour model from being affected by outliers, the Interquartile range - was used to create a clean dataframe.\n",
        "- After creating and assessing outcomes for 4 models, I opted for the Random forest regressor Model which works well with numerical data in the features.\n",
        "- The problem at had was a classification problem\n",
        "-The model of choice is the RandomForestclassifeir which gave us an 84% accuracy and was able to predict that the sample entry will not test positive for daibetes.\n",
        "- Further tuning is required to achieve the 85% and above accuracy level.\n",
        "- An alternative model (Random forest regressor) seems to give an error of 4% or an accuracy of 94%."
      ]
    }
  ]
}